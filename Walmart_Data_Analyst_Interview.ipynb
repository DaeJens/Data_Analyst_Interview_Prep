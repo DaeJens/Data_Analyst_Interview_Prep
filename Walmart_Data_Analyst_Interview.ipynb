{
 "cells": [
  {
   "cell_type": "markdown",
   "metadata": {},
   "source": [
    "# Walmart Data Analyst Interview\n",
    "\n",
    "# Python\n",
    "\n",
    "#### Q1. Write a Python script to identify unique values in a list and count their occurrences. This tests your understanding of sets and dictionaries."
   ]
  },
  {
   "cell_type": "code",
   "execution_count": 4,
   "metadata": {},
   "outputs": [
    {
     "name": "stdout",
     "output_type": "stream",
     "text": [
      "Unique values and their occurrences:\n",
      "Value: 1, Count: 2\n",
      "Value: 4, Count: 2\n",
      "Value: 5, Count: 1\n",
      "Value: 2, Count: 1\n",
      "Value: 6, Count: 1\n",
      "Value: 3, Count: 1\n",
      "Value: 7, Count: 1\n",
      "Value: 9, Count: 1\n"
     ]
    }
   ],
   "source": [
    "def count_unique_values(input_list):\n",
    "    value_count = {}\n",
    "    for value in input_list:\n",
    "        if value in value_count:\n",
    "            value_count[value] += 1\n",
    "        else:\n",
    "            value_count[value] = 1\n",
    "    return value_count\n",
    "\n",
    "user_input = input(\"Enter a list of values separated by commas: \")\n",
    "input_list = [int(item) for item in user_input.split(\",\")]\n",
    "\n",
    "result = count_unique_values(input_list)\n",
    "\n",
    "print(\"Unique values and their occurrences:\")\n",
    "for value, count in result.items():\n",
    "    print(f\"Value: {value}, Count: {count}\")"
   ]
  },
  {
   "cell_type": "markdown",
   "metadata": {},
   "source": [
    "#### Q2. How would you use pandas to merge two datasets and calculate total sales for products with valid promotions? THis involves merge(), groupby(), and basic data analysis functions."
   ]
  },
  {
   "cell_type": "code",
   "execution_count": 3,
   "metadata": {},
   "outputs": [
    {
     "name": "stdout",
     "output_type": "stream",
     "text": [
      "product_name\n",
      "A     90.0\n",
      "C    127.5\n",
      "D    225.0\n",
      "H    125.0\n",
      "Name: total_sales, dtype: float64\n"
     ]
    }
   ],
   "source": [
    "import pandas as pd\n",
    "\n",
    "data1 = {\n",
    "    'product_id': [1,2,3,4,5,6,7,8,9],\n",
    "    'product_name': ['A','B','C','D','E','F','G','H','I'],\n",
    "    'sales': [100,200,150,300,500,225,450,250,125]\n",
    "}\n",
    "\n",
    "data2 = {\n",
    "    \"product_id\": [1,2,3,4,5,6,7,8,9],\n",
    "    'promotion_status': [True,False,True,True,False,False,False,True,False],\n",
    "    'discount': [10,20,15,25,30,10,20,50,10]\n",
    "}\n",
    "\n",
    "df_products = pd.DataFrame(data1)\n",
    "df_promotions = pd.DataFrame(data2)\n",
    "\n",
    "merged_df = pd.merge(df_products, df_promotions, on = 'product_id')\n",
    "\n",
    "valid_promotions = merged_df[merged_df['promotion_status'] == True].copy()\n",
    "\n",
    "valid_promotions['total_sales'] = valid_promotions['sales'] * (1 - valid_promotions['discount'] / 100)\n",
    "\n",
    "total_sales_per_product = valid_promotions.groupby('product_name')['total_sales'].sum()\n",
    "\n",
    "print(total_sales_per_product)"
   ]
  },
  {
   "cell_type": "markdown",
   "metadata": {},
   "source": [
    "#### Q3. Explain the differences between lists, tuples, sets, and dictionaries in Python, highlighting their use cases in data manipulation and analysis.\n",
    "\n",
    "In Python, lists, tuples, sets, and dictionaries are built-in data structures, each serving different purposes.\n",
    "\n",
    "1. Lists\n",
    "\n",
    "\n",
    "2. Tuples\n",
    "\n",
    "\n",
    "3. Sets\n",
    "\n",
    "\n",
    "4. Dictionaries"
   ]
  },
  {
   "cell_type": "markdown",
   "metadata": {},
   "source": [
    "# SQL\n",
    "\n",
    "#### Q1. Write a query to find the second-highest salary in a department. You might use ROW_NUMBER() or DENSE_RANK() to achieve this."
   ]
  },
  {
   "cell_type": "code",
   "execution_count": null,
   "metadata": {},
   "outputs": [],
   "source": [
    "#Ans.\n",
    "#Sql"
   ]
  },
  {
   "cell_type": "markdown",
   "metadata": {},
   "source": [
    "#### Q2. Create a query to calculate the total number of transactions per user for each day. This typically involves GROUP BY and COUNT() for aggregation."
   ]
  },
  {
   "cell_type": "code",
   "execution_count": null,
   "metadata": {},
   "outputs": [],
   "source": [
    "#Ans.\n",
    "#Sql"
   ]
  },
  {
   "cell_type": "markdown",
   "metadata": {},
   "source": [
    "#### Q3. Write a query to select projects with the highest budget-per-employee ratio from two related tables (projects and employees)."
   ]
  },
  {
   "cell_type": "code",
   "execution_count": null,
   "metadata": {},
   "outputs": [],
   "source": [
    "#Ans.\n",
    "#Sql"
   ]
  }
 ],
 "metadata": {
  "kernelspec": {
   "display_name": "base",
   "language": "python",
   "name": "python3"
  },
  "language_info": {
   "codemirror_mode": {
    "name": "ipython",
    "version": 3
   },
   "file_extension": ".py",
   "mimetype": "text/x-python",
   "name": "python",
   "nbconvert_exporter": "python",
   "pygments_lexer": "ipython3",
   "version": "3.11.5"
  }
 },
 "nbformat": 4,
 "nbformat_minor": 2
}
